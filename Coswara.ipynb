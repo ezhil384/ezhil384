{
  "nbformat": 4,
  "nbformat_minor": 0,
  "metadata": {
    "colab": {
      "name": "Coswara.ipynb",
      "provenance": [],
      "authorship_tag": "ABX9TyP5Oa58gojGcDlhXE7m0UqR",
      "include_colab_link": true
    },
    "kernelspec": {
      "display_name": "Python 3",
      "name": "python3"
    },
    "language_info": {
      "name": "python"
    }
  },
  "cells": [
    {
      "cell_type": "markdown",
      "metadata": {
        "id": "view-in-github",
        "colab_type": "text"
      },
      "source": [
        "<a href=\"https://colab.research.google.com/github/ezhil384/ezhil384/blob/main/Coswara.ipynb\" target=\"_parent\"><img src=\"https://colab.research.google.com/assets/colab-badge.svg\" alt=\"Open In Colab\"/></a>"
      ]
    },
    {
      "cell_type": "code",
      "metadata": {
        "colab": {
          "background_save": true,
          "base_uri": "https://localhost:8080/"
        },
        "id": "A7jhTsAH1xAH",
        "outputId": "cbb9ca31-fb99-46d1-b14a-52ff50354729"
      },
      "source": [
        "!git clone https://github.com/iiscleap/Coswara-Data\n",
        "%cd Coswara-Data"
      ],
      "execution_count": null,
      "outputs": [
        {
          "output_type": "stream",
          "text": [
            "Cloning into 'Coswara-Data'...\n",
            "remote: Enumerating objects: 613, done.\u001b[K\n",
            "remote: Total 613 (delta 0), reused 0 (delta 0), pack-reused 613\u001b[K\n",
            "Receiving objects: 100% (613/613), 12.54 GiB | 41.48 MiB/s, done.\n",
            "Resolving deltas: 100% (222/222), done.\n",
            "Checking out files: 100% (158/158), done.\n",
            "/content/Coswara-Data\n"
          ],
          "name": "stdout"
        }
      ]
    },
    {
      "cell_type": "code",
      "metadata": {
        "colab": {
          "background_save": true
        },
        "id": "ky59MD9i_DmB",
        "outputId": "8d0add55-dc41-4fb3-8a94-530100ede61b"
      },
      "source": [
        "import pandas as pd\n",
        "df = pd.read_csv('combined_data.csv')\n",
        "df.head()"
      ],
      "execution_count": null,
      "outputs": [
        {
          "output_type": "execute_result",
          "data": {
            "text/html": [
              "<div>\n",
              "<style scoped>\n",
              "    .dataframe tbody tr th:only-of-type {\n",
              "        vertical-align: middle;\n",
              "    }\n",
              "\n",
              "    .dataframe tbody tr th {\n",
              "        vertical-align: top;\n",
              "    }\n",
              "\n",
              "    .dataframe thead th {\n",
              "        text-align: right;\n",
              "    }\n",
              "</style>\n",
              "<table border=\"1\" class=\"dataframe\">\n",
              "  <thead>\n",
              "    <tr style=\"text-align: right;\">\n",
              "      <th></th>\n",
              "      <th>id</th>\n",
              "      <th>a</th>\n",
              "      <th>covid_status</th>\n",
              "      <th>ep</th>\n",
              "      <th>g</th>\n",
              "      <th>l_c</th>\n",
              "      <th>l_l</th>\n",
              "      <th>l_s</th>\n",
              "      <th>rU</th>\n",
              "      <th>smoker</th>\n",
              "      <th>cold</th>\n",
              "      <th>ht</th>\n",
              "      <th>diabetes</th>\n",
              "      <th>fever</th>\n",
              "      <th>asthma</th>\n",
              "      <th>um</th>\n",
              "      <th>cough</th>\n",
              "      <th>ihd</th>\n",
              "      <th>bd</th>\n",
              "      <th>st</th>\n",
              "      <th>ftg</th>\n",
              "      <th>mp</th>\n",
              "      <th>loss_of_smell</th>\n",
              "      <th>cld</th>\n",
              "      <th>test_status</th>\n",
              "      <th>diarrhoea</th>\n",
              "      <th>pneumonia</th>\n",
              "      <th>ctScan</th>\n",
              "      <th>testType</th>\n",
              "      <th>test_date</th>\n",
              "      <th>vacc</th>\n",
              "      <th>ctDate</th>\n",
              "      <th>ctScore</th>\n",
              "      <th>others_resp</th>\n",
              "      <th>others_preexist</th>\n",
              "    </tr>\n",
              "  </thead>\n",
              "  <tbody>\n",
              "    <tr>\n",
              "      <th>0</th>\n",
              "      <td>iV3Db6t1T8b7c5HQY2TwxIhjbzD3</td>\n",
              "      <td>28</td>\n",
              "      <td>healthy</td>\n",
              "      <td>y</td>\n",
              "      <td>male</td>\n",
              "      <td>India</td>\n",
              "      <td>Anantapur</td>\n",
              "      <td>Andhra Pradesh</td>\n",
              "      <td>n</td>\n",
              "      <td>NaN</td>\n",
              "      <td>NaN</td>\n",
              "      <td>NaN</td>\n",
              "      <td>NaN</td>\n",
              "      <td>NaN</td>\n",
              "      <td>NaN</td>\n",
              "      <td>NaN</td>\n",
              "      <td>NaN</td>\n",
              "      <td>NaN</td>\n",
              "      <td>NaN</td>\n",
              "      <td>NaN</td>\n",
              "      <td>NaN</td>\n",
              "      <td>NaN</td>\n",
              "      <td>NaN</td>\n",
              "      <td>NaN</td>\n",
              "      <td>NaN</td>\n",
              "      <td>NaN</td>\n",
              "      <td>NaN</td>\n",
              "      <td>NaN</td>\n",
              "      <td>NaN</td>\n",
              "      <td>NaN</td>\n",
              "      <td>NaN</td>\n",
              "      <td>NaN</td>\n",
              "      <td>NaN</td>\n",
              "      <td>NaN</td>\n",
              "      <td>NaN</td>\n",
              "    </tr>\n",
              "    <tr>\n",
              "      <th>1</th>\n",
              "      <td>AxuYWBN0jFVLINCBqIW5aZmGCdu1</td>\n",
              "      <td>25</td>\n",
              "      <td>healthy</td>\n",
              "      <td>y</td>\n",
              "      <td>male</td>\n",
              "      <td>India</td>\n",
              "      <td>BENGALURU URBAN</td>\n",
              "      <td>Karnataka</td>\n",
              "      <td>n</td>\n",
              "      <td>True</td>\n",
              "      <td>NaN</td>\n",
              "      <td>NaN</td>\n",
              "      <td>NaN</td>\n",
              "      <td>NaN</td>\n",
              "      <td>NaN</td>\n",
              "      <td>NaN</td>\n",
              "      <td>NaN</td>\n",
              "      <td>NaN</td>\n",
              "      <td>NaN</td>\n",
              "      <td>NaN</td>\n",
              "      <td>NaN</td>\n",
              "      <td>NaN</td>\n",
              "      <td>NaN</td>\n",
              "      <td>NaN</td>\n",
              "      <td>NaN</td>\n",
              "      <td>NaN</td>\n",
              "      <td>NaN</td>\n",
              "      <td>NaN</td>\n",
              "      <td>NaN</td>\n",
              "      <td>NaN</td>\n",
              "      <td>NaN</td>\n",
              "      <td>NaN</td>\n",
              "      <td>NaN</td>\n",
              "      <td>NaN</td>\n",
              "      <td>NaN</td>\n",
              "    </tr>\n",
              "    <tr>\n",
              "      <th>2</th>\n",
              "      <td>C5eIsssb9GSkaAgIfsHMHeR6fSh1</td>\n",
              "      <td>28</td>\n",
              "      <td>healthy</td>\n",
              "      <td>y</td>\n",
              "      <td>female</td>\n",
              "      <td>United States</td>\n",
              "      <td>Pittsburgh</td>\n",
              "      <td>Pennsylvania</td>\n",
              "      <td>n</td>\n",
              "      <td>NaN</td>\n",
              "      <td>NaN</td>\n",
              "      <td>NaN</td>\n",
              "      <td>NaN</td>\n",
              "      <td>NaN</td>\n",
              "      <td>NaN</td>\n",
              "      <td>NaN</td>\n",
              "      <td>NaN</td>\n",
              "      <td>NaN</td>\n",
              "      <td>NaN</td>\n",
              "      <td>NaN</td>\n",
              "      <td>NaN</td>\n",
              "      <td>NaN</td>\n",
              "      <td>NaN</td>\n",
              "      <td>NaN</td>\n",
              "      <td>NaN</td>\n",
              "      <td>NaN</td>\n",
              "      <td>NaN</td>\n",
              "      <td>NaN</td>\n",
              "      <td>NaN</td>\n",
              "      <td>NaN</td>\n",
              "      <td>NaN</td>\n",
              "      <td>NaN</td>\n",
              "      <td>NaN</td>\n",
              "      <td>NaN</td>\n",
              "      <td>NaN</td>\n",
              "    </tr>\n",
              "    <tr>\n",
              "      <th>3</th>\n",
              "      <td>YjbEAECMBIaZKyfqOvWy5DDImUb2</td>\n",
              "      <td>26</td>\n",
              "      <td>healthy</td>\n",
              "      <td>y</td>\n",
              "      <td>male</td>\n",
              "      <td>India</td>\n",
              "      <td>Bangalore</td>\n",
              "      <td>Karnataka</td>\n",
              "      <td>n</td>\n",
              "      <td>NaN</td>\n",
              "      <td>True</td>\n",
              "      <td>NaN</td>\n",
              "      <td>NaN</td>\n",
              "      <td>NaN</td>\n",
              "      <td>NaN</td>\n",
              "      <td>NaN</td>\n",
              "      <td>NaN</td>\n",
              "      <td>NaN</td>\n",
              "      <td>NaN</td>\n",
              "      <td>NaN</td>\n",
              "      <td>NaN</td>\n",
              "      <td>NaN</td>\n",
              "      <td>NaN</td>\n",
              "      <td>NaN</td>\n",
              "      <td>NaN</td>\n",
              "      <td>NaN</td>\n",
              "      <td>NaN</td>\n",
              "      <td>NaN</td>\n",
              "      <td>NaN</td>\n",
              "      <td>NaN</td>\n",
              "      <td>NaN</td>\n",
              "      <td>NaN</td>\n",
              "      <td>NaN</td>\n",
              "      <td>NaN</td>\n",
              "      <td>NaN</td>\n",
              "    </tr>\n",
              "    <tr>\n",
              "      <th>4</th>\n",
              "      <td>aGOvk4ji0cVqIzCs1jHnzlw2UEy2</td>\n",
              "      <td>32</td>\n",
              "      <td>healthy</td>\n",
              "      <td>y</td>\n",
              "      <td>male</td>\n",
              "      <td>India</td>\n",
              "      <td>Nalanda</td>\n",
              "      <td>Bihar</td>\n",
              "      <td>n</td>\n",
              "      <td>NaN</td>\n",
              "      <td>NaN</td>\n",
              "      <td>NaN</td>\n",
              "      <td>NaN</td>\n",
              "      <td>NaN</td>\n",
              "      <td>NaN</td>\n",
              "      <td>NaN</td>\n",
              "      <td>NaN</td>\n",
              "      <td>NaN</td>\n",
              "      <td>NaN</td>\n",
              "      <td>NaN</td>\n",
              "      <td>NaN</td>\n",
              "      <td>NaN</td>\n",
              "      <td>NaN</td>\n",
              "      <td>NaN</td>\n",
              "      <td>NaN</td>\n",
              "      <td>NaN</td>\n",
              "      <td>NaN</td>\n",
              "      <td>NaN</td>\n",
              "      <td>NaN</td>\n",
              "      <td>NaN</td>\n",
              "      <td>NaN</td>\n",
              "      <td>NaN</td>\n",
              "      <td>NaN</td>\n",
              "      <td>NaN</td>\n",
              "      <td>NaN</td>\n",
              "    </tr>\n",
              "  </tbody>\n",
              "</table>\n",
              "</div>"
            ],
            "text/plain": [
              "                             id   a  ... others_resp others_preexist\n",
              "0  iV3Db6t1T8b7c5HQY2TwxIhjbzD3  28  ...         NaN             NaN\n",
              "1  AxuYWBN0jFVLINCBqIW5aZmGCdu1  25  ...         NaN             NaN\n",
              "2  C5eIsssb9GSkaAgIfsHMHeR6fSh1  28  ...         NaN             NaN\n",
              "3  YjbEAECMBIaZKyfqOvWy5DDImUb2  26  ...         NaN             NaN\n",
              "4  aGOvk4ji0cVqIzCs1jHnzlw2UEy2  32  ...         NaN             NaN\n",
              "\n",
              "[5 rows x 35 columns]"
            ]
          },
          "metadata": {
            "tags": []
          },
          "execution_count": 0
        }
      ]
    },
    {
      "cell_type": "code",
      "metadata": {
        "id": "vDyGHm1CCCwC"
      },
      "source": [
        "!python extract_data.py"
      ],
      "execution_count": null,
      "outputs": []
    },
    {
      "cell_type": "code",
      "metadata": {
        "colab": {
          "base_uri": "https://localhost:8080/"
        },
        "id": "nzen_bAM3jss",
        "outputId": "30ecccc3-c8b6-451e-a14b-a8b5b77de94d"
      },
      "source": [
        "from google.colab import drive\n",
        "drive.mount('/content/gdrive')"
      ],
      "execution_count": 2,
      "outputs": [
        {
          "output_type": "stream",
          "text": [
            "Mounted at /content/gdrive\n"
          ],
          "name": "stdout"
        }
      ]
    },
    {
      "cell_type": "markdown",
      "metadata": {
        "id": "hHOIMTPX60nc"
      },
      "source": [
        "All your files from Mydrive"
      ]
    },
    {
      "cell_type": "code",
      "metadata": {
        "colab": {
          "base_uri": "https://localhost:8080/"
        },
        "id": "D2_sHgnh3znE",
        "outputId": "001ae40e-3b9a-4078-c01c-f918dfe70c5c"
      },
      "source": [
        "%cd gdrive/My Drive\n",
        "! ls"
      ],
      "execution_count": 3,
      "outputs": [
        {
          "output_type": "stream",
          "text": [
            "/content/gdrive/My Drive\n",
            "'2019A7PS0050_Abhiraj E.pdf'\n",
            " 2019A7PS0050case.docx\n",
            " 2019A7PS0050P\n",
            "'2019A7PS0050P abhiraj E.pdf'\n",
            " 2019A7PS0050P_GraduationMarksheet.pdf\n",
            "'2019A7PS0050P GSF312.pdf'\n",
            " 2019A7PS0050P_HSCMarksheet.jpg\n",
            " 2019A7PS0050P.java\n",
            " 2019A7PS0050PM3.pdf\n",
            "'2019A7PS0050P maths t3.pdf'\n",
            "'2019A7PS0050P mupl1.pdf'\n",
            " 2019A7PS0050P.pdf\n",
            "'2019A7PS0050P q12.pdf'\n",
            "'2019A7PS0050P q34.pdf'\n",
            "'2019A7PS0050P q56.pdf'\n",
            "'2019A7PS0050P_SSC Marksheet.jpg'\n",
            " 2019A7PS0050P_T12.pdf\n",
            "'2019A7PS0050P_T21 (1).pdf'\n",
            " 2019A7PS0050P_T21.pdf\n",
            "'20210524_175733 (1).jpg'\n",
            " 20210524_175733.jpg\n",
            " 20210524_175903.jpg\n",
            " 34R\n",
            " 35R\n",
            "'3 Assignment Submission Template.docx'\n",
            "'Abhiraj E_2019A7PS0050P_EDCC_SemI_2020-21.docx'\n",
            "'ABHIRAJ E_2019A7PS0050P_SSA (1).docx'\n",
            "'ABHIRAJ E_2019A7PS0050P_SSA.docx'\n",
            "'ABHIRAJ E_2019A7PS0050P_Test 3 (1).docx'\n",
            "'ABHIRAJ E_2019A7PS0050P_Test 3 (2).docx'\n",
            "'ABHIRAJ E_2019A7PS0050P_Test 3 (3).docx'\n",
            "'ABHIRAJ E_2019A7PS0050P_Test 3 (4).docx'\n",
            "'ABHIRAJ E_2019A7PS0050P_Test 3.docx'\n",
            "'Adobe Scan 12 Oct 2020.pdf'\n",
            "'Adobe Scan 14 Sep 2020.pdf'\n",
            "'akb-bmbp-nvy - May 24, 2021 (1).gjam'\n",
            "'akb-bmbp-nvy - May 24, 2021.gjam'\n",
            " Answer_Upload.sql\n",
            "'app phil midsem.pdf'\n",
            "'article (1).docx'\n",
            " article.docx\n",
            " b2q1scriptlogs.txt\n",
            " BBox-Label-Tool-master\n",
            "'Capacity building.gslides'\n",
            "'Capacity building.pptx'\n",
            "'Case study.gslides'\n",
            "'chapter 2.gdoc'\n",
            " Classroom\n",
            "'Colab Notebooks'\n",
            " compre.pdf\n",
            "'Copy of test.mp4'\n",
            "'draft of messages.gdoc'\n",
            " Essay.gdoc\n",
            " file_example_WAV_1MG.wav\n",
            "'Getting started.pdf'\n",
            " highway.jpg\n",
            " lab1final\n",
            "'lab2 final'\n",
            " lab3\n",
            " Lab4_driver.c\n",
            " lab6final\n",
            "'Lecture 24 - Predicate Logic Natural Deduction Proof Rules Equality.pdf'\n",
            " MyDrive\n",
            "'New folder (1)'\n",
            "'nvx-himu-fww - Dec 14, 2020.gjam'\n",
            " OnlineQ1to3.zip\n",
            "'Pitch (1).gslides'\n",
            " Pitch.gslides\n",
            "'Prototyping presentation.gslides'\n",
            "\"Ram's write-up.gdoc\"\n",
            "'RELAY UNIT.rar'\n",
            " Release\n",
            "'resume_Abhiraj E.pdf'\n",
            " sec1dsa.pdf\n",
            " sec2dsa.pdf\n",
            " sec3dsa.pdf\n",
            "'Seminar 1 (1).gslides'\n",
            "'Seminar 1.gslides'\n",
            "'seqListOps (4).c'\n",
            "'Status report (1).gslides'\n",
            "'Status report.gslides'\n",
            " street.jpg\n",
            " test.mp4\n",
            "'WhatsApp Image 2021-05-24 at 6.04.02 PM.jpeg'\n",
            " YOLO\n"
          ],
          "name": "stdout"
        }
      ]
    },
    {
      "cell_type": "markdown",
      "metadata": {
        "id": "mZGXZPyd65jd"
      },
      "source": [
        "# Librosa \n",
        "Plotting the visual image of the wave form of the audio file - helps in running CNN classifiers"
      ]
    },
    {
      "cell_type": "code",
      "metadata": {
        "id": "E4_ceUx4GA8b",
        "colab": {
          "base_uri": "https://localhost:8080/",
          "height": 299
        },
        "outputId": "53469a91-fe1e-4518-b1aa-fb9d7fa467cc"
      },
      "source": [
        "import numpy as np\n",
        "import matplotlib.pyplot as plt\n",
        "import librosa\n",
        "import os\n",
        "import sys\n",
        "#Visualize cough signal\n",
        "file = \"35_35.wav\"\n",
        "x,fs = librosa.load(file, sr=None)\n",
        "plt.plot(x)\n",
        "plt.title(\"Input cough signal\")"
      ],
      "execution_count": 7,
      "outputs": [
        {
          "output_type": "execute_result",
          "data": {
            "text/plain": [
              "Text(0.5, 1.0, 'Input cough signal')"
            ]
          },
          "metadata": {
            "tags": []
          },
          "execution_count": 7
        },
        {
          "output_type": "display_data",
          "data": {
            "image/png": "[encoded data removed]",
            "text/plain": [
              "<Figure size 432x288 with 1 Axes>"
            ]
          },
          "metadata": {
            "tags": [],
            "needs_background": "light"
          }
        }
      ]
    },
    {
      "cell_type": "markdown",
      "metadata": {
        "id": "RTNvXJiZ6T_U"
      },
      "source": [
        "# Audio file\n",
        "Running the audio file on google colab using wavfile and Audio. Make sure that the file is in .wav format"
      ]
    },
    {
      "cell_type": "code",
      "metadata": {
        "colab": {
          "base_uri": "https://localhost:8080/",
          "height": 110
        },
        "id": "0tJQHRmr544t",
        "outputId": "392ed2fc-718f-414d-fe8a-dbe66297be95"
      },
      "source": [
        "from IPython.display import Audio\n",
        "from scipy.io import wavfile\n",
        "# Load the file on an object\n",
        "data = wavfile.read('35_35.wav')\n",
        "\n",
        "# Separete the object elements\n",
        "framerate = data[0]\n",
        "sounddata = data[1]\n",
        "time      = np.arange(0,len(sounddata))/framerate\n",
        "\n",
        "# Show information about the object\n",
        "print('Sample rate:',framerate,'Hz')\n",
        "print('Total time:',len(sounddata)/framerate,'s')\n",
        "Audio(sounddata,rate=framerate)"
      ],
      "execution_count": 9,
      "outputs": [
        {
          "output_type": "stream",
          "text": [
            "Sample rate: 11025 Hz\n",
            "Total time: 2.136235827664399 s\n"
          ],
          "name": "stdout"
        },
        {
          "output_type": "execute_result",
          "data": {
            "text/html": [
              "\n",
              "                <audio controls=\"controls\" >\n",
              "                    <source src=\"data:audio/wav;base64,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\" type=\"audio/wav\" />\n",
              "                    Your browser does not support the audio element.\n",
              "                </audio>\n",
              "              "
            ],
            "text/plain": [
              "<IPython.lib.display.Audio object>"
            ]
          },
          "metadata": {
            "tags": []
          },
          "execution_count": 9
        }
      ]
    },
    {
      "cell_type": "markdown",
      "metadata": {
        "id": "UQ8j_iII28g7"
      },
      "source": [
        "# New Section"
      ]
    }
  ]
}